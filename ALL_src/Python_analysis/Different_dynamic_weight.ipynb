{
 "cells": [
  {
   "cell_type": "code",
   "execution_count": 12,
   "id": "165b0d12",
   "metadata": {},
   "outputs": [
    {
     "data": {
      "image/png": "[encoded data removed]",
      "text/plain": [
       "<Figure size 432x288 with 1 Axes>"
      ]
     },
     "metadata": {
      "needs_background": "light"
     },
     "output_type": "display_data"
    }
   ],
   "source": [
    "import math\n",
    "import matplotlib.pyplot as plt\n",
    "import matplotlib.ticker as ticker\n",
    "import pandas as pd\n",
    "import numpy as np\n",
    "\n",
    "with open(\"E:/pythonProject1/Test/result_2_1.txt\",'r') as f2_1:\n",
    "    result2_1 = []\n",
    "    for line in f2_1.readlines():\n",
    "        result2_1.append(line.strip())\n",
    "with open(\"E:/pythonProject1/Test/result_2_2.txt\",'r') as f2_2:\n",
    "    result2_2 = []\n",
    "    for line in f2_2.readlines():\n",
    "        result2_2.append(line.strip())\n",
    "with open(\"E:/pythonProject1/Test/result_2_3.txt\",'r') as f2_3:\n",
    "    result2_3 = []\n",
    "    for line in f2_3.readlines():\n",
    "        result2_3.append(line.strip())\n",
    "with open(\"E:/pythonProject1/Test/result_2_4.txt\",'r') as f2_4:\n",
    "    result2_4 = []\n",
    "    for line in f2_4.readlines():\n",
    "        result2_4.append(line.strip())\n",
    "result2 = []\n",
    "for i in [result2_1, result2_2, result2_3, result2_4]:\n",
    "    result2.append(i)\n",
    "    \n",
    "with open(\"E:/pythonProject1/Test/target.txt\",'r') as ft:\n",
    "    target = []\n",
    "    for line in ft.readlines():\n",
    "        target.append(line.strip())\n",
    "        \n",
    "length = len(target)\n",
    "\n",
    "TP_2 = [0, 0, 0, 0]\n",
    "FN_2 = [0, 0, 0, 0]\n",
    "FP_2 = [0, 0, 0, 0]\n",
    "TN_2 = [0, 0, 0, 0]\n",
    "SE_2 = [0, 0, 0, 0]\n",
    "SP_2 = [0, 0, 0, 0]\n",
    "MCC_2 = [0, 0, 0, 0]\n",
    "for index in range(4): \n",
    "    for i in range(length):\n",
    "        tmp_length = len(target[i])\n",
    "        for j in range(tmp_length):\n",
    "            if result2[index][i][j] == '(' and target[i][j] == '(' or result2[index][i][j] == ')' and target[i][j] == ')':\n",
    "                TP_2[index] += 1\n",
    "            if (result2[index][i][j] == '(' or result2[index][i][j] == ')') and target[i][j] == '.':\n",
    "                FP_2[index] += 1\n",
    "            if (target[i][j] == '(' or target[i][j] == ')') and result2[index][i][j] == '.':\n",
    "                FN_2[index] += 1\n",
    "            if result2[index][i][j] == '.' and target[i][j] == '.':\n",
    "                TN_2[index] += 1\n",
    "    SE_2[index] = TP_2[index] / (TP_2[index] + FN_2[index])\n",
    "    SP_2[index] = TP_2[index] / (TP_2[index] + FP_2[index])\n",
    "    MCC_2[index] = math.sqrt(SE_2[index] * SP_2[index])\n",
    "    \n",
    "fig, ax = plt.subplots()\n",
    "\n",
    "barWidth = 0.25\n",
    "r1 = np.arange(len(SE_2))\n",
    "r2 = [x + barWidth for x in r1]\n",
    "r3 = [x + barWidth for x in r2]\n",
    "\n",
    "plt.bar(r1, SE_2, width=barWidth, edgecolor='white',label='SE' )\n",
    "plt.bar(r2, SP_2, width=barWidth, edgecolor='white',label='SP' )\n",
    "plt.bar(r3, MCC_2, width=barWidth, color='k', edgecolor='white',label='MCC' )\n",
    "\n",
    "plt.tight_layout()  # 避免上下两图之间信息重叠\n",
    "tick_spacing = 1   # 应对下表过于密集\n",
    "\n",
    "plt.xticks([r + barWidth for r in range(len(SE_2))], ['pro','im1','im2','im3'])\n",
    "\n",
    "for x,y in enumerate(SE_2):\n",
    "    plt.text(x,y+0.015,\"%s\"%round(y,3),ha='center')  \n",
    "for x,y in enumerate(SP_2):\n",
    "    plt.text(x+0.25,y+0.015,\"%s\"%round(y,3),ha='center')\n",
    "for x,y in enumerate(MCC_2):\n",
    "    plt.text(x+0.5,y+0.015,\"%s\"%round(y,3),ha='center')\n",
    "\n",
    "plt.legend(loc='lower right')\n",
    "plt.xlabel('Groups')\n",
    "plt.ylabel('Score')\n",
    "plt.show()"
   ]
  },
  {
   "cell_type": "code",
   "execution_count": null,
   "id": "b81a4a55",
   "metadata": {},
   "outputs": [],
   "source": []
  }
 ],
 "metadata": {
  "kernelspec": {
   "display_name": "Python 3",
   "language": "python",
   "name": "python3"
  },
  "language_info": {
   "codemirror_mode": {
    "name": "ipython",
    "version": 3
   },
   "file_extension": ".py",
   "mimetype": "text/x-python",
   "name": "python",
   "nbconvert_exporter": "python",
   "pygments_lexer": "ipython3",
   "version": "3.7.10"
  }
 },
 "nbformat": 4,
 "nbformat_minor": 5
}
