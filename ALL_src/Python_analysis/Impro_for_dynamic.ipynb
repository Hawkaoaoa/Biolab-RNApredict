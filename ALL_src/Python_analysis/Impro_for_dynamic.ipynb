{
 "cells": [
  {
   "cell_type": "code",
   "execution_count": 5,
   "id": "16c19c04",
   "metadata": {
    "scrolled": true
   },
   "outputs": [
    {
     "data": {
      "image/png": "[encoded data removed]",
      "text/plain": [
       "<Figure size 432x288 with 1 Axes>"
      ]
     },
     "metadata": {
      "needs_background": "light"
     },
     "output_type": "display_data"
    }
   ],
   "source": [
    "import math\n",
    "import matplotlib.pyplot as plt\n",
    "import matplotlib.ticker as ticker\n",
    "import pandas as pd\n",
    "import numpy as np\n",
    "\n",
    "with open(\"E:/pythonProject1/Test/result_4_1.txt\",'r') as f4_1:\n",
    "    result4_1 = []\n",
    "    for line in f4_1.readlines():\n",
    "        result4_1.append(line.strip())\n",
    "with open(\"E:/pythonProject1/Test/result_4_2.txt\",'r') as f4_2:\n",
    "    result4_2 = []\n",
    "    for line in f4_2.readlines():\n",
    "        result4_2.append(line.strip())\n",
    "result4 = []\n",
    "for i in [result4_1, result4_2]:\n",
    "    result4.append(i)\n",
    "    \n",
    "with open(\"E:/pythonProject1/Test/target.txt\",'r') as ft:\n",
    "    target = []\n",
    "    for line in ft.readlines():\n",
    "        target.append(line.strip())\n",
    "        \n",
    "length = len(target)\n",
    "\n",
    "TP_4 = [0, 0]\n",
    "FN_4 = [0, 0]\n",
    "FP_4 = [0, 0]\n",
    "TN_4 = [0, 0]\n",
    "SE_4 = [0, 0]\n",
    "SP_4 = [0, 0]\n",
    "MCC_4 = [0, 0]\n",
    "for index in range(2): \n",
    "    for i in range(length):\n",
    "        tmp_length = len(target[i])\n",
    "        for j in range(tmp_length):\n",
    "            if result4[index][i][j] == '(' and target[i][j] == '(' or result4[index][i][j] == ')' and target[i][j] == ')':\n",
    "                TP_4[index] += 1\n",
    "            if (result4[index][i][j] == '(' or result4[index][i][j] == ')') and target[i][j] == '.':\n",
    "                FP_4[index] += 1\n",
    "            if (target[i][j] == '(' or target[i][j] == ')') and result4[index][i][j] == '.':\n",
    "                FN_4[index] += 1\n",
    "            if result4[index][i][j] == '.' and target[i][j] == '.':\n",
    "                TN_4[index] += 1\n",
    "    SE_4[index] = TP_4[index] / (TP_4[index] + FN_4[index])\n",
    "    SP_4[index] = TP_4[index] / (TP_4[index] + FP_4[index])\n",
    "    MCC_4[index] = math.sqrt(SE_4[index] * SP_4[index])\n",
    "    \n",
    "fig, ax = plt.subplots()\n",
    "\n",
    "barWidth = 0.25\n",
    "r1 = np.arange(len(SE_4))\n",
    "r2 = [x + barWidth for x in r1]\n",
    "r3 = [x + barWidth for x in r2]\n",
    "\n",
    "plt.bar(r1, SE_4, width=barWidth, edgecolor='white',label='SE' )\n",
    "plt.bar(r2, SP_4, width=barWidth, edgecolor='white',label='SP' )\n",
    "plt.bar(r3, MCC_4, width=barWidth, color='k',edgecolor='white',label='MCC' )\n",
    "\n",
    "plt.tight_layout()  # 避免上下两图之间信息重叠\n",
    "tick_spacing = 1   # 应对下表过于密集\n",
    "\n",
    "plt.xticks([r + barWidth for r in range(len(SE_4))], ['Dynamic1','Dynamic2'])\n",
    "    \n",
    "for x,y in enumerate(SE_4):\n",
    "    plt.text(x,y+0.01,\"%s\"%round(y,3),ha='center')  \n",
    "for x,y in enumerate(SP_4):\n",
    "    plt.text(x+0.25,y+0.01,\"%s\"%round(y,3),ha='center')\n",
    "for x,y in enumerate(MCC_4):\n",
    "    plt.text(x+0.5,y+0.01,\"%s\"%round(y,3),ha='center')\n",
    "    \n",
    "plt.legend()\n",
    "plt.xlabel('Groups')\n",
    "plt.ylabel('Score')\n",
    "plt.show()"
   ]
  },
  {
   "cell_type": "code",
   "execution_count": null,
   "id": "0d4d7fdc",
   "metadata": {},
   "outputs": [],
   "source": []
  },
  {
   "cell_type": "code",
   "execution_count": null,
   "id": "5f701ddf",
   "metadata": {},
   "outputs": [],
   "source": []
  }
 ],
 "metadata": {
  "kernelspec": {
   "display_name": "Python 3",
   "language": "python",
   "name": "python3"
  },
  "language_info": {
   "codemirror_mode": {
    "name": "ipython",
    "version": 3
   },
   "file_extension": ".py",
   "mimetype": "text/x-python",
   "name": "python",
   "nbconvert_exporter": "python",
   "pygments_lexer": "ipython3",
   "version": "3.7.10"
  }
 },
 "nbformat": 4,
 "nbformat_minor": 5
}
