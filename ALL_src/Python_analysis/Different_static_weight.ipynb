{
 "cells": [
  {
   "cell_type": "code",
   "execution_count": 50,
   "id": "bbedc6a8",
   "metadata": {
    "scrolled": true
   },
   "outputs": [
    {
     "data": {
      "image/png": "[encoded data removed]",
      "text/plain": [
       "<Figure size 432x288 with 1 Axes>"
      ]
     },
     "metadata": {
      "needs_background": "light"
     },
     "output_type": "display_data"
    }
   ],
   "source": [
    "import math\n",
    "import matplotlib.pyplot as plt\n",
    "import matplotlib.ticker as ticker\n",
    "import pandas as pd\n",
    "import numpy as np\n",
    "\n",
    "with open(\"E:/pythonProject1/Test/result_1_1.txt\",'r') as f1_1:    \n",
    "    result1_1 = []\n",
    "    for line in f1_1.readlines():\n",
    "        result1_1.append(line.strip())\n",
    "with open(\"E:/pythonProject1/Test/result_1_2.txt\",'r') as f1_2:\n",
    "    result1_2 = []\n",
    "    for line in f1_2.readlines():\n",
    "        result1_2.append(line.strip())\n",
    "with open(\"E:/pythonProject1/Test/result_1_3.txt\",'r') as f1_3:\n",
    "    result1_3 = []\n",
    "    for line in f1_3.readlines():\n",
    "        result1_3.append(line.strip())\n",
    "with open(\"E:/pythonProject1/Test/result_1_4.txt\",'r') as f1_4:\n",
    "    result1_4 = []\n",
    "    for line in f1_4.readlines():\n",
    "        result1_4.append(line.strip())\n",
    "result1 = []\n",
    "for i in [result1_1, result1_2, result1_3, result1_4]:\n",
    "    result1.append(i)\n",
    "    \n",
    "with open(\"E:/pythonProject1/Test/target.txt\",'r') as ft:\n",
    "    target = []\n",
    "    for line in ft.readlines():\n",
    "        target.append(line.strip())\n",
    "        \n",
    "length = len(target)\n",
    "\n",
    "TP_1 = [0, 0, 0, 0]\n",
    "FN_1 = [0, 0, 0, 0]\n",
    "FP_1 = [0, 0, 0, 0]\n",
    "TN_1 = [0, 0, 0, 0]\n",
    "SE_1 = [0, 0, 0, 0]\n",
    "SP_1 = [0, 0, 0, 0]\n",
    "MCC_1 = [0, 0, 0, 0]\n",
    "\n",
    "for index in range(4): \n",
    "    for i in range(length):\n",
    "        tmp_length = len(target[i])\n",
    "        for j in range(tmp_length):\n",
    "            if result1[index][i][j] == '(' and target[i][j] == '(' or result1[index][i][j] == ')' and target[i][j] == ')':\n",
    "                TP_1[index] += 1\n",
    "            if (result1[index][i][j] == '(' or result1[index][i][j] == ')') and target[i][j] == '.':\n",
    "                FP_1[index] += 1\n",
    "            if (target[i][j] == '(' or target[i][j] == ')') and result1[index][i][j] == '.':\n",
    "                FN_1[index] += 1\n",
    "            if result1[index][i][j] == '.' and target[i][j] == '.':\n",
    "                TN_1[index] += 1\n",
    "    SE_1[index] = TP_1[index] / (TP_1[index] + FN_1[index])\n",
    "    SP_1[index] = TP_1[index] / (TP_1[index] + FP_1[index])\n",
    "    MCC_1[index] = math.sqrt(SE_1[index] * SP_1[index])\n",
    "\n",
    "fig, ax = plt.subplots()\n",
    "\n",
    "barWidth = 0.25\n",
    "r1 = np.arange(len(SE_1))\n",
    "r2 = [x + barWidth for x in r1]\n",
    "r3 = [x + barWidth for x in r2]\n",
    "\n",
    "plt.bar(r1, SE_1, width=barWidth, edgecolor='white',label='SE' )\n",
    "plt.bar(r2, SP_1, width=barWidth, edgecolor='white',label='SP' )\n",
    "plt.bar(r3, MCC_1, width=barWidth, color='k',edgecolor='white',label='MCC' )\n",
    "\n",
    "plt.tight_layout()  # 避免上下两图之间信息重叠\n",
    "tick_spacing = 1   # 应对下表过于密集\n",
    "\n",
    "plt.xticks([r + barWidth for r in range(len(SE_1))], ['A','B','C','D'])\n",
    "\n",
    "for x,y in enumerate(SE_1):\n",
    "    plt.text(x,y+0.015,\"%s\"%round(y,3),ha='center')  \n",
    "for x,y in enumerate(SP_1):\n",
    "    plt.text(x+0.25,y+0.015,\"%s\"%round(y,3),ha='center')\n",
    "for x,y in enumerate(MCC_1):\n",
    "    plt.text(x+0.5,y+0.015,\"%s\"%round(y,3),ha='center')\n",
    "\n",
    "plt.legend(loc='lower right')\n",
    "plt.xlabel('Groups')\n",
    "plt.ylabel('Score')\n",
    "plt.show()"
   ]
  },
  {
   "cell_type": "code",
   "execution_count": null,
   "id": "1134b7e0",
   "metadata": {},
   "outputs": [],
   "source": []
  }
 ],
 "metadata": {
  "kernelspec": {
   "display_name": "Python 3",
   "language": "python",
   "name": "python3"
  },
  "language_info": {
   "codemirror_mode": {
    "name": "ipython",
    "version": 3
   },
   "file_extension": ".py",
   "mimetype": "text/x-python",
   "name": "python",
   "nbconvert_exporter": "python",
   "pygments_lexer": "ipython3",
   "version": "3.7.10"
  }
 },
 "nbformat": 4,
 "nbformat_minor": 5
}
